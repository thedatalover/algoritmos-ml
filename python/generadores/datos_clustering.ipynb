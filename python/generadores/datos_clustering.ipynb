{
 "cells": [
  {
   "cell_type": "markdown",
   "id": "33c3bd10-3e45-4a7d-9925-975e50f5c8fe",
   "metadata": {},
   "source": [
    "# Generacíon de Datos Sintéticos para Clustering"
   ]
  },
  {
   "cell_type": "code",
   "execution_count": 4,
   "id": "bf803f2b-5adc-42b0-b7e1-b91f15f409d2",
   "metadata": {},
   "outputs": [
    {
     "name": "stdout",
     "output_type": "stream",
     "text": [
      "   variable_1  variable_2  variable_3  variable_4  variable_5  variable_6  \\\n",
      "0    8.344961    4.715572    6.428700    5.255314    6.409827    5.798243   \n",
      "1   -5.502146   -5.035375   -5.768499   -5.440576   -5.452099   -4.647987   \n",
      "2    6.239869    7.277777    7.645180    1.848981    6.435969    5.371813   \n",
      "3   -5.056919   -5.580652   -4.721013   -5.598207   -4.361949   -5.271425   \n",
      "4    5.597015    4.666456    6.113044    1.391359    6.113810    6.160972   \n",
      "\n",
      "   variable_7  variable_8  variable_9  variable_10  \n",
      "0    3.141838    6.934148    3.712691     3.048803  \n",
      "1   -4.400470   -4.081165   -4.336583    -5.086407  \n",
      "2    6.773858    6.467779    4.140253     3.523331  \n",
      "3   -5.383804   -6.019011   -5.418709    -4.096154  \n",
      "4    7.710515    2.923001    5.282002     4.713573  \n"
     ]
    }
   ],
   "source": [
    "import numpy as np\n",
    "import pandas as pd\n",
    "\n",
    "# Configuración de la semilla aleatoria para la reproducibilidad\n",
    "np.random.seed(0)\n",
    "\n",
    "# Número de muestras y características\n",
    "num_muestras = 1000\n",
    "num_caracteristicas = 10\n",
    "\n",
    "# Generar datos sintéticos\n",
    "# Dividimos los datos en 3 grupos\n",
    "grupo1 = np.random.normal(loc=0, scale=1, size=(num_muestras // 3, num_caracteristicas))\n",
    "grupo2 = np.random.normal(loc=5, scale=1.5, size=(num_muestras // 3, num_caracteristicas))\n",
    "grupo3 = np.random.normal(loc=-5, scale=0.5, size=(num_muestras - 2 * (num_muestras // 3), num_caracteristicas))\n",
    "\n",
    "# Combinar los datos en un único DataFrame\n",
    "datos_sinteticos = np.vstack([grupo1, grupo2, grupo3])\n",
    "df_datos_sinteticos = pd.DataFrame(datos_sinteticos, columns=[f\"variable_{i}\" for i in range(1, num_caracteristicas + 1)])\n",
    "\n",
    "# Mezclar los datos de manera aleatoria\n",
    "df_datos_sinteticos = df_datos_sinteticos.sample(frac=1).reset_index(drop=True)\n",
    "\n",
    "# Mostrar las primeras filas del DataFrame\n",
    "print(df_datos_sinteticos.head())"
   ]
  },
  {
   "cell_type": "code",
   "execution_count": 5,
   "id": "d48a2503-60c4-4a7c-a03e-3c8b47340937",
   "metadata": {},
   "outputs": [],
   "source": [
    "# Guardar los datos en un fichero CSV\n",
    "from pathlib import Path\n",
    "file_path = (\"../datos/demo_data_clustering.csv\")\n",
    "df_datos_sinteticos.to_csv(file_path, index=False)"
   ]
  },
  {
   "cell_type": "code",
   "execution_count": null,
   "id": "0fbce245-ef30-446c-980d-683f71d81dc4",
   "metadata": {},
   "outputs": [],
   "source": []
  }
 ],
 "metadata": {
  "kernelspec": {
   "display_name": "Python 3 (ipykernel)",
   "language": "python",
   "name": "python3"
  },
  "language_info": {
   "codemirror_mode": {
    "name": "ipython",
    "version": 3
   },
   "file_extension": ".py",
   "mimetype": "text/x-python",
   "name": "python",
   "nbconvert_exporter": "python",
   "pygments_lexer": "ipython3",
   "version": "3.7.13"
  }
 },
 "nbformat": 4,
 "nbformat_minor": 5
}
