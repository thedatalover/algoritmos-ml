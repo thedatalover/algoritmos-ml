{
 "cells": [
  {
   "cell_type": "markdown",
   "id": "39605b51-7e4d-43ab-aa33-2916308e7362",
   "metadata": {},
   "source": [
    "# Principal Component Analysis - Análisis de Datos de Cáncer de Mama"
   ]
  },
  {
   "cell_type": "code",
   "execution_count": null,
   "id": "96f5f485-5db0-4531-a520-14cc0933de58",
   "metadata": {},
   "outputs": [],
   "source": [
    "# Librerías necesarias para manipulación de datos\n",
    "import pandas as pd\n",
    "from pathlib import Path\n",
    "\n",
    "# Librerías de scikit learn\n",
    "from sklearn.decomposition import PCA\n",
    "from sklearn.preprocessing import StandardScaler\n",
    "\n",
    "# Librerías para crear gráficos\n",
    "import matplotlib.pyplot as plt\n",
    "from mpl_toolkits.mplot3d import Axes3D"
   ]
  },
  {
   "cell_type": "markdown",
   "id": "742f0e76-2b03-430e-a9d2-2359254329d6",
   "metadata": {
    "tags": []
   },
   "source": [
    "## Preparación de los Datos\n",
    "\n",
    "Fuente de los datos: [Breast Cancer Dataset](https://www.kaggle.com/datasets/yasserh/breast-cancer-dataset)"
   ]
  },
  {
   "cell_type": "code",
   "execution_count": null,
   "id": "7400c3c2-b114-4b86-b48b-223d5910a7ca",
   "metadata": {},
   "outputs": [],
   "source": [
    "# Importa los datos en un DataFrame de Pandas\n",
    "file_path = Path(\"../datos/breast_cancer.csv\")  # Define la ruta del fichero de datos\n",
    "\n",
    "# Crea un DataFrame con los datos del fichero de datos\n",
    "data_raw = pd.read_csv(file_path, index_col=0)\n",
    "\n",
    "# Muestra un ejemplo de los datos cargados\n",
    "data_raw.head(10)"
   ]
  },
  {
   "cell_type": "code",
   "execution_count": null,
   "id": "3520ccf8-0900-4dcf-adf9-dcfe4515f33d",
   "metadata": {},
   "outputs": [],
   "source": [
    "# Muestra el tamaño del DataFrame con los datos originales\n",
    "data_raw.shape"
   ]
  },
  {
   "cell_type": "code",
   "execution_count": null,
   "id": "a0a77bc6-841d-44e1-adf6-3cb907ea2672",
   "metadata": {},
   "outputs": [],
   "source": [
    "# Verificar si hay valores nulos\n",
    "total_nan = data_raw.isna().sum().sum()\n",
    "\n",
    "print(f\"Número total de valores nulos: {total_nan}\")"
   ]
  },
  {
   "cell_type": "code",
   "execution_count": null,
   "id": "53ffc71a-9a51-47c3-93e5-5d2f51cfc0a9",
   "metadata": {},
   "outputs": [],
   "source": [
    "# Eliminar las columnas donde al menos un elemento es NaN\n",
    "data_clean = data_raw.dropna(axis=1, how=\"any\")"
   ]
  },
  {
   "cell_type": "code",
   "execution_count": null,
   "id": "8f6a73b5-f394-4919-8193-74c6688f00a0",
   "metadata": {},
   "outputs": [],
   "source": [
    "# Muestra el tamaño del DataFrame con los datos limpios\n",
    "data_clean.shape"
   ]
  },
  {
   "cell_type": "code",
   "execution_count": null,
   "id": "bde36ce3-48a4-475e-990e-d23f9d0a41bd",
   "metadata": {},
   "outputs": [],
   "source": [
    "# Verificar los tipos de datos\n",
    "data_clean.dtypes"
   ]
  },
  {
   "cell_type": "code",
   "execution_count": null,
   "id": "abd0eb70-a036-4321-a44c-ea728eb79da4",
   "metadata": {},
   "outputs": [],
   "source": [
    "# Guarda una copia de los datos limpios\n",
    "file_path = Path(\"../datos/breast_cancer_clean.csv\")  # Define la ruta del fichero de datos\n",
    "\n",
    "data_clean.to_csv(file_path)"
   ]
  },
  {
   "cell_type": "code",
   "execution_count": null,
   "id": "a157e4bb-557d-49f5-b6e5-a0773d390fba",
   "metadata": {},
   "outputs": [],
   "source": [
    "# Elimina la columna \"diagnosis\" ya que representa la predicción del diagnóstico, y además, es una variable no numérica\n",
    "data_clean = data_clean.drop(\"diagnosis\", axis=1)\n",
    "\n",
    "# Muestra un ejemplo de los datos limpios\n",
    "data_clean.head(10)"
   ]
  },
  {
   "cell_type": "code",
   "execution_count": null,
   "id": "30c05269-cc1c-4eb2-9244-75a25dbd85d3",
   "metadata": {},
   "outputs": [],
   "source": [
    "# Estandarización de los datos\n",
    "scaler = StandardScaler() # Crea una instancia de StandardScaler\n",
    "\n",
    "# Estandariza los datos utilizando la instancia de StandarScaler\n",
    "data_standardized = scaler.fit_transform(data_clean)\n",
    "\n",
    "# Muestra los datos estandarizados\n",
    "data_standardized[10]"
   ]
  },
  {
   "cell_type": "markdown",
   "id": "23da9cf5-e5b0-4d70-857c-592a73a97702",
   "metadata": {},
   "source": [
    "## Uso de PCA"
   ]
  },
  {
   "cell_type": "code",
   "execution_count": null,
   "id": "ec945b54-1865-4aa9-96ff-e00216bdfe57",
   "metadata": {},
   "outputs": [],
   "source": [
    "# PCA para 2 componentes\n",
    "pca_2d = PCA(n_components=2)\n",
    "components_2d = pca_2d.fit_transform(data_standardized)\n",
    "\n",
    "# PCA para 3 componentes\n",
    "pca_3d = PCA(n_components=3)\n",
    "components_3d = pca_3d.fit_transform(data_standardized)"
   ]
  },
  {
   "cell_type": "code",
   "execution_count": null,
   "id": "26c8f962-6b54-4186-a05f-d07b1a0ad0c8",
   "metadata": {},
   "outputs": [],
   "source": [
    "# Define los colores para los puntos del gráfico\n",
    "dot_colors = data_raw[\"diagnosis\"].replace({'M': 1, 'B': 0})\n",
    "dot_colors"
   ]
  },
  {
   "cell_type": "code",
   "execution_count": null,
   "id": "f9a9c6bb-ce20-4d47-96c9-4a4ccddb000d",
   "metadata": {},
   "outputs": [],
   "source": [
    "# Gráfico para 2 componentes\n",
    "plt.figure(figsize=(12, 6))\n",
    "plt.scatter(components_2d[:, 0], components_2d[:, 1], c=dot_colors, alpha=0.7)\n",
    "plt.title(\"PCA con 2 Componentes\")\n",
    "plt.xlabel(\"Componente 1\")\n",
    "plt.ylabel(\"Componente 2\")\n",
    "plt.show()"
   ]
  },
  {
   "cell_type": "code",
   "execution_count": null,
   "id": "54803a85-5a53-4475-8794-e98c70148258",
   "metadata": {},
   "outputs": [],
   "source": [
    "# Gráfico para 3 componentes\n",
    "ax = plt.subplot(1, 2, 2, projection=\"3d\")\n",
    "ax.scatter(components_3d[:, 0], components_3d[:, 1], components_3d[:, 2], c=dot_colors, alpha=0.7)\n",
    "ax.set_title(\"PCA con 3 Componentes\")\n",
    "ax.set_xlabel(\"Componente 1\")\n",
    "ax.set_ylabel(\"Componente 2\")\n",
    "ax.set_zlabel(\"Componente 3\")\n",
    "plt.show()"
   ]
  },
  {
   "cell_type": "markdown",
   "id": "5f6c55f2-402a-4dd2-a9c2-2730dfa0a422",
   "metadata": {},
   "source": [
    "### Cálculo de la varianza explicada\n",
    "\n",
    "La varianza explicada en el Análisis de Componentes Principales (PCA) se refiere a la proporción de la varianza total de los datos que es capturada o representada por cada componente principal.\n",
    "\n",
    "Cuando realizas PCA, estás transformando tus datos originales, que pueden tener muchas dimensiones (o características), a un nuevo espacio con menos dimensiones (los componentes principales). Cada componente principal es una combinación lineal de las características originales y capta cierta cantidad de información (o varianza) de los datos.\n",
    "\n",
    "La varianza explicada por un componente principal te indica qué tan importante es ese componente en términos de cuánta información de los datos originales retiene. Un componente principal que explique, por ejemplo, el 40% de la varianza significa que capta el 40% de la información total que había en todos los datos originales."
   ]
  },
  {
   "cell_type": "code",
   "execution_count": null,
   "id": "24f45551-cd4e-4e63-b20d-b26d13e21dc4",
   "metadata": {},
   "outputs": [],
   "source": [
    "# Varianza explicada para 2 y 3 componentes\n",
    "explained_variance_2d = pca_2d.explained_variance_ratio_\n",
    "explained_variance_3d = pca_3d.explained_variance_ratio_\n",
    "\n",
    "# Cálculo de la varianza explicada acumulada\n",
    "cumulative_variance_2d = explained_variance_2d.sum()\n",
    "cumulative_variance_3d = explained_variance_3d.sum()\n",
    "\n",
    "# Mostrar resultados\n",
    "print(f\"Varianza explicada PCA2: {explained_variance_2d}\")\n",
    "print(f\"Varianza acumulada PCA2: {cumulative_variance_2d}\")\n",
    "print(f\"Varianza explicada PCA3: {explained_variance_3d}\")\n",
    "print(f\"Varianza acumulada PCA3: {cumulative_variance_3d}\")"
   ]
  },
  {
   "cell_type": "code",
   "execution_count": null,
   "id": "b53b6869-78fb-450f-b040-91c42d293ceb",
   "metadata": {},
   "outputs": [],
   "source": []
  }
 ],
 "metadata": {
  "kernelspec": {
   "display_name": "Python 3 (ipykernel)",
   "language": "python",
   "name": "python3"
  },
  "language_info": {
   "codemirror_mode": {
    "name": "ipython",
    "version": 3
   },
   "file_extension": ".py",
   "mimetype": "text/x-python",
   "name": "python",
   "nbconvert_exporter": "python",
   "pygments_lexer": "ipython3",
   "version": "3.7.13"
  }
 },
 "nbformat": 4,
 "nbformat_minor": 5
}
