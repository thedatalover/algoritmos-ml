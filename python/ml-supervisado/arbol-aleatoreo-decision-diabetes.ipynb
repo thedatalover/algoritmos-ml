{
 "cells": [
  {
   "cell_type": "markdown",
   "id": "af38df6e-f05f-4225-8953-dc6a7909b798",
   "metadata": {},
   "source": [
    "# Árboles Aleatoreos\n",
    "\n",
    "Para este ejemplo se utiliza [el conjunto de datos de diabetes](https://scikit-learn.org/stable/modules/generated/sklearn.datasets.load_diabetes.html#sklearn.datasets.load_diabetes) incluído en la librería Scikit-learn."
   ]
  },
  {
   "cell_type": "code",
   "execution_count": 1,
   "id": "e77f3295-0647-43eb-9a6a-55a788ebf155",
   "metadata": {},
   "outputs": [],
   "source": [
    "# Librerías requeridas\n",
    "import numpy as np # Para realizar operaciones matemáticas y estadísticas\n",
    "import pandas as pd\n",
    "from sklearn.datasets import load_diabetes # Importa el conjunto de datos de diabetes\n",
    "from sklearn.model_selection import train_test_split # Para crear conjuntos de entrenamiento y prueba\n",
    "from sklearn.ensemble import RandomForestClassifier # Importa el algoritmo de áboles aleatoreos para clasificación.\n",
    "from sklearn.metrics import classification_report, confusion_matrix # Librerías para evaluación del modelo"
   ]
  },
  {
   "cell_type": "code",
   "execution_count": 2,
   "id": "12f41875-6e7a-4781-8e6e-b8b81fb4284a",
   "metadata": {},
   "outputs": [],
   "source": [
    "# Carga el conjunto de datos de diabetes\n",
    "diabetes = load_diabetes()\n",
    "X = diabetes.data\n",
    "y = diabetes.target"
   ]
  },
  {
   "cell_type": "markdown",
   "id": "2234ee99-22e5-4bd2-ae3a-ba1798f2280e",
   "metadata": {},
   "source": [
    "La variable objetivo en el conjunto de datos de diabetes es continua, lo que implica un problema de regresión.\n",
    "\n",
    "Para usar un árbol de decisión para clasificación, necesitamos convertir esta variable en categórica; por ejemplo, podemos clasificar los niveles de glucosa en 'alto' y 'bajo' basándonos en la mediana."
   ]
  },
  {
   "cell_type": "code",
   "execution_count": 3,
   "id": "e05514c9-9ee4-4bf7-be0e-c10d6ae70aaa",
   "metadata": {},
   "outputs": [
    {
     "data": {
      "text/plain": [
       "array([151.,  75., 141., 206., 135.,  97., 138.,  63., 110., 310.])"
      ]
     },
     "execution_count": 3,
     "metadata": {},
     "output_type": "execute_result"
    }
   ],
   "source": [
    "# Datos originales\n",
    "y[:10]"
   ]
  },
  {
   "cell_type": "code",
   "execution_count": 4,
   "id": "c6bda9fa-4e80-49ff-9708-4b363345b1c4",
   "metadata": {},
   "outputs": [],
   "source": [
    "# Transforma los datos del nivel de glucosa de continuos a categorícos usando la mediana.\n",
    "y_categorico = (y > np.median(y)).astype(int)"
   ]
  },
  {
   "cell_type": "code",
   "execution_count": 5,
   "id": "e594a3b6-42c6-4db0-8e64-db8be9eaa736",
   "metadata": {},
   "outputs": [
    {
     "data": {
      "text/plain": [
       "array([1, 0, 1, 1, 0, 0, 0, 0, 0, 1])"
      ]
     },
     "execution_count": 5,
     "metadata": {},
     "output_type": "execute_result"
    }
   ],
   "source": [
    "# Datos categóricos\n",
    "y_categorico[:10]"
   ]
  },
  {
   "cell_type": "code",
   "execution_count": 6,
   "id": "08315931-3934-4837-8a73-89ae035438cc",
   "metadata": {},
   "outputs": [],
   "source": [
    "# Dividir los datos en conjuntos de entrenamiento y prueba\n",
    "X_train, X_test, y_train, y_test = train_test_split(X, y_categorico, random_state=0)"
   ]
  },
  {
   "cell_type": "code",
   "execution_count": 7,
   "id": "ef208d18-f9ac-41e2-b710-e68fc2006f57",
   "metadata": {},
   "outputs": [],
   "source": [
    "# Crear el modelo de clasificación Random Forest\n",
    "rf_model = RandomForestClassifier(n_estimators=100, random_state=0)"
   ]
  },
  {
   "cell_type": "code",
   "execution_count": 8,
   "id": "bfcb7a9c-dc9e-4752-b01f-2faeac7f65b9",
   "metadata": {},
   "outputs": [
    {
     "data": {
      "text/plain": [
       "RandomForestClassifier(random_state=0)"
      ]
     },
     "execution_count": 8,
     "metadata": {},
     "output_type": "execute_result"
    }
   ],
   "source": [
    "# Entrenar el modelo usando los datos de entrenamiento\n",
    "rf_model.fit(X_train, y_train)"
   ]
  },
  {
   "cell_type": "code",
   "execution_count": 9,
   "id": "4518a228-ec0e-4161-b80f-1604621445a3",
   "metadata": {},
   "outputs": [],
   "source": [
    "# Hacer predicciones en el conjunto de prueba\n",
    "y_pred = rf_model.predict(X_test)"
   ]
  },
  {
   "cell_type": "code",
   "execution_count": 10,
   "id": "c8d7d587-069f-483e-942b-4a2dfdf0f239",
   "metadata": {},
   "outputs": [
    {
     "name": "stdout",
     "output_type": "stream",
     "text": [
      "Matrix de Confusión:\n",
      " [[38 14]\n",
      " [17 42]]\n",
      "\n",
      "Reporte de Clasificación:\n",
      "               precision    recall  f1-score   support\n",
      "\n",
      "           0       0.69      0.73      0.71        52\n",
      "           1       0.75      0.71      0.73        59\n",
      "\n",
      "    accuracy                           0.72       111\n",
      "   macro avg       0.72      0.72      0.72       111\n",
      "weighted avg       0.72      0.72      0.72       111\n",
      "\n"
     ]
    }
   ],
   "source": [
    "# Evaluación del modelo\n",
    "print(\"Matrix de Confusión:\\n\", confusion_matrix(y_test, y_pred))\n",
    "print(\"\\nReporte de Clasificación:\\n\", classification_report(y_test, y_pred))"
   ]
  },
  {
   "cell_type": "code",
   "execution_count": 11,
   "id": "416d17f5-9697-44a4-9f1e-ea121b3a3aa7",
   "metadata": {},
   "outputs": [
    {
     "data": {
      "text/html": [
       "<div>\n",
       "<style scoped>\n",
       "    .dataframe tbody tr th:only-of-type {\n",
       "        vertical-align: middle;\n",
       "    }\n",
       "\n",
       "    .dataframe tbody tr th {\n",
       "        vertical-align: top;\n",
       "    }\n",
       "\n",
       "    .dataframe thead th {\n",
       "        text-align: right;\n",
       "    }\n",
       "</style>\n",
       "<table border=\"1\" class=\"dataframe\">\n",
       "  <thead>\n",
       "    <tr style=\"text-align: right;\">\n",
       "      <th></th>\n",
       "      <th>0</th>\n",
       "      <th>1</th>\n",
       "    </tr>\n",
       "  </thead>\n",
       "  <tbody>\n",
       "    <tr>\n",
       "      <th>0</th>\n",
       "      <td>38</td>\n",
       "      <td>14</td>\n",
       "    </tr>\n",
       "    <tr>\n",
       "      <th>1</th>\n",
       "      <td>17</td>\n",
       "      <td>42</td>\n",
       "    </tr>\n",
       "  </tbody>\n",
       "</table>\n",
       "</div>"
      ],
      "text/plain": [
       "    0   1\n",
       "0  38  14\n",
       "1  17  42"
      ]
     },
     "execution_count": 11,
     "metadata": {},
     "output_type": "execute_result"
    }
   ],
   "source": [
    "# Crea matriz de confusión, visualmente más clara\n",
    "conf_matrix = confusion_matrix(y_test, y_pred)\n",
    "conf_matrix_df = pd.DataFrame(conf_matrix, index=[0, 1], columns=[0, 1])\n",
    "conf_matrix_df"
   ]
  },
  {
   "cell_type": "code",
   "execution_count": null,
   "id": "f083ce67-56ac-44c0-907a-ce0ea9196906",
   "metadata": {},
   "outputs": [],
   "source": []
  }
 ],
 "metadata": {
  "kernelspec": {
   "display_name": "Python 3 (ipykernel)",
   "language": "python",
   "name": "python3"
  },
  "language_info": {
   "codemirror_mode": {
    "name": "ipython",
    "version": 3
   },
   "file_extension": ".py",
   "mimetype": "text/x-python",
   "name": "python",
   "nbconvert_exporter": "python",
   "pygments_lexer": "ipython3",
   "version": "3.7.13"
  }
 },
 "nbformat": 4,
 "nbformat_minor": 5
}
