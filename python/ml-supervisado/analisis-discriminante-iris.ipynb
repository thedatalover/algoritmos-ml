{
 "cells": [
  {
   "cell_type": "markdown",
   "id": "67580187-655b-4655-ba94-2cf0f479ba04",
   "metadata": {},
   "source": [
    "# Análisis Discriminante\n",
    "\n",
    "El Análisis Discriminante es un conjunto de técnicas en el campo del aprendizaje automático y la estadística que se utilizan para clasificar o distinguir entre dos o más grupos de objetos o eventos. La idea básica es encontrar una forma de describir, o \"discriminar\", las diferencias entre estos grupos.\n",
    "\n",
    "Imagina que tienes un conjunto de frutas, como manzanas y naranjas, y quieres crear un modelo que pueda identificar si una fruta desconocida es una manzana o una naranja basándose en características como el color, el tamaño y el peso. El Análisis Discriminante te ayudaría a encontrar las características que mejor separan las manzanas de las naranjas, de modo que cuando tengas una nueva fruta, puedas usar estas características para predecir a qué grupo pertenece."
   ]
  },
  {
   "cell_type": "code",
   "execution_count": 1,
   "id": "acec65b1-4a53-45d4-9a02-f1f0684fd4fe",
   "metadata": {},
   "outputs": [],
   "source": [
    "# Librerías necesarias\n",
    "from sklearn.datasets import load_iris # Importa el conjunto de datos iris\n",
    "from sklearn.discriminant_analysis import LinearDiscriminantAnalysis, QuadraticDiscriminantAnalysis # Importa los algoritmos de análisis discriminante\n",
    "from sklearn.model_selection import train_test_split # Librerías para crear conjuntos de entrenamiento y de prueba\n",
    "from sklearn.metrics import accuracy_score # Librería para calcular métricas para comparar modelos"
   ]
  },
  {
   "cell_type": "markdown",
   "id": "b916ec06-ad76-4ba9-b949-575620809a3e",
   "metadata": {},
   "source": [
    "## Carga de Datos"
   ]
  },
  {
   "cell_type": "code",
   "execution_count": 2,
   "id": "2c5ad7c1-db0f-4c97-938a-039fd4f77a07",
   "metadata": {},
   "outputs": [],
   "source": [
    "# Carga de datos desde scikit-learn\n",
    "iris = load_iris()\n",
    "\n",
    "# Definición de variables independientes (predictores - X) y dependiente (target - y)\n",
    "X = iris.data\n",
    "y = iris.target"
   ]
  },
  {
   "cell_type": "code",
   "execution_count": 3,
   "id": "38a48282-bbc6-4b78-9897-4635c7c57170",
   "metadata": {},
   "outputs": [],
   "source": [
    "# Dividir los datos en conjuntos de entrenamiento y prueba\n",
    "X_train, X_test, y_train, y_test = train_test_split(X, y, random_state=0)"
   ]
  },
  {
   "cell_type": "code",
   "execution_count": 5,
   "id": "7fec4e96-abac-422f-a78c-f1674cdb44f5",
   "metadata": {},
   "outputs": [
    {
     "data": {
      "text/plain": [
       "array([[5.9, 3. , 4.2, 1.5],\n",
       "       [5.8, 2.6, 4. , 1.2],\n",
       "       [6.8, 3. , 5.5, 2.1],\n",
       "       [4.7, 3.2, 1.3, 0.2],\n",
       "       [6.9, 3.1, 5.1, 2.3],\n",
       "       [5. , 3.5, 1.6, 0.6],\n",
       "       [5.4, 3.7, 1.5, 0.2],\n",
       "       [5. , 2. , 3.5, 1. ],\n",
       "       [6.5, 3. , 5.5, 1.8],\n",
       "       [6.7, 3.3, 5.7, 2.5]])"
      ]
     },
     "execution_count": 5,
     "metadata": {},
     "output_type": "execute_result"
    }
   ],
   "source": [
    "X_train[:10]"
   ]
  },
  {
   "cell_type": "markdown",
   "id": "0de248fd-715d-47f0-9e49-a2eef5d9370b",
   "metadata": {},
   "source": [
    "## Análisis Discriminante Lineal (LDA)"
   ]
  },
  {
   "cell_type": "code",
   "execution_count": 6,
   "id": "43eb3025-714d-41ff-86a8-e37eb8bc4a4e",
   "metadata": {},
   "outputs": [
    {
     "name": "stdout",
     "output_type": "stream",
     "text": [
      "Exactitud LDA: 0.97\n"
     ]
    }
   ],
   "source": [
    "# Crea instancia del modelo\n",
    "lda = LinearDiscriminantAnalysis()\n",
    "\n",
    "# Se entrena el modelo\n",
    "lda.fit(X_train, y_train)\n",
    "\n",
    "# Predicción utilizando datos de prueba\n",
    "y_pred_lda = lda.predict(X_test)\n",
    "\n",
    "# Medición de la exactitud\n",
    "accuracy_lda = accuracy_score(y_test, y_pred_lda)\n",
    "print(f'Exactitud LDA: {accuracy_lda:.2f}')"
   ]
  },
  {
   "cell_type": "markdown",
   "id": "c28e4dcb-ae56-49de-8825-f077fa99c35a",
   "metadata": {},
   "source": [
    "## Análisis Discriminante Cuadrático (QDA)"
   ]
  },
  {
   "cell_type": "code",
   "execution_count": 10,
   "id": "63afa2ff-6586-4c60-9833-4d62ce956683",
   "metadata": {},
   "outputs": [
    {
     "name": "stdout",
     "output_type": "stream",
     "text": [
      "Exactitud QDA: 0.97\n"
     ]
    }
   ],
   "source": [
    "# Crea instancia del modelo\n",
    "qda = QuadraticDiscriminantAnalysis()\n",
    "\n",
    "# Se entrena el modelo\n",
    "qda.fit(X_train, y_train)\n",
    "\n",
    "# Predicción utilizando datos de prueba\n",
    "y_pred_qda = qda.predict(X_test)\n",
    "\n",
    "# Medición de la exactitud\n",
    "accuracy_qda = accuracy_score(y_test, y_pred_qda)\n",
    "print(f'Exactitud QDA: {accuracy_qda:.2f}')"
   ]
  },
  {
   "cell_type": "markdown",
   "id": "92953704-1683-4f45-aeb7-1628316ccc14",
   "metadata": {},
   "source": [
    "## LDA Regularizado como aproximación a RDA"
   ]
  },
  {
   "cell_type": "code",
   "execution_count": 11,
   "id": "33d6e893-b2f2-4162-8438-42ba34eafbe0",
   "metadata": {},
   "outputs": [
    {
     "name": "stdout",
     "output_type": "stream",
     "text": [
      "Exactitud LDA (Regularizado): 0.97\n"
     ]
    }
   ],
   "source": [
    "# Crear instancia del modelo\n",
    "lda_rda = LinearDiscriminantAnalysis(solver='lsqr', shrinkage='auto')\n",
    "\n",
    "# Se entrena el modelo\n",
    "lda_rda.fit(X_train, y_train)\n",
    "\n",
    "# Predicción utilizando datos de prueba\n",
    "y_pred_lda_rda = lda_rda.predict(X_test)\n",
    "\n",
    "# Medición de la exactitud\n",
    "accuracy_lda_rda = accuracy_score(y_test, y_pred_lda_rda)\n",
    "print(f'Exactitud LDA (Regularizado): {accuracy_lda_rda:.2f}')"
   ]
  }
 ],
 "metadata": {
  "kernelspec": {
   "display_name": "Python 3 (ipykernel)",
   "language": "python",
   "name": "python3"
  },
  "language_info": {
   "codemirror_mode": {
    "name": "ipython",
    "version": 3
   },
   "file_extension": ".py",
   "mimetype": "text/x-python",
   "name": "python",
   "nbconvert_exporter": "python",
   "pygments_lexer": "ipython3",
   "version": "3.7.13"
  }
 },
 "nbformat": 4,
 "nbformat_minor": 5
}
