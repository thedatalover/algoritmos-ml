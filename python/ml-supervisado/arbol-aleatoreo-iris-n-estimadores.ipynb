{
 "cells": [
  {
   "cell_type": "markdown",
   "id": "20c055c6-7993-4901-acbf-f3a8aa7b5942",
   "metadata": {},
   "source": [
    "# Algoritmo Random Forest\n",
    "\n",
    "Para este ejemplo se utiliza [el conjunto de datos Iris](https://scikit-learn.org/stable/auto_examples/datasets/plot_iris_dataset.html) incluído en la librería Scikit-learn."
   ]
  },
  {
   "cell_type": "code",
   "execution_count": 1,
   "id": "6eb300e7-e2ff-476c-9daa-f4f0df39ee00",
   "metadata": {},
   "outputs": [],
   "source": [
    "# Librerías requeridas\n",
    "import pandas as pd\n",
    "import matplotlib.pyplot as plt\n",
    "from sklearn.datasets import load_iris # Importa el conjunto de datos Iris\n",
    "from sklearn.model_selection import train_test_split # Para crear conjuntos de entrenamiento y prueba\n",
    "from sklearn.ensemble import RandomForestClassifier # Importa el algoritmo Random Forest para clasificación\n",
    "from sklearn.metrics import classification_report, confusion_matrix, accuracy_score # Librerías para evaluación del modelo"
   ]
  },
  {
   "cell_type": "code",
   "execution_count": 2,
   "id": "45073c6c-5d6a-4586-a0b6-50b873a998ba",
   "metadata": {},
   "outputs": [],
   "source": [
    "# Carga el conjunto de datos Iris\n",
    "iris = load_iris()\n",
    "X = iris.data\n",
    "y = iris.target"
   ]
  },
  {
   "cell_type": "code",
   "execution_count": 3,
   "id": "0e76fbea-d24b-4279-b40f-327a4b78f932",
   "metadata": {},
   "outputs": [],
   "source": [
    "# Divide los datos en conjuntos de entrenamiento y prueba\n",
    "X_train, X_test, y_train, y_test = train_test_split(X, y, random_state=0)"
   ]
  },
  {
   "cell_type": "code",
   "execution_count": 4,
   "id": "ee48bbf7-d028-40b2-a773-53211f4a5930",
   "metadata": {},
   "outputs": [],
   "source": [
    "# Crea el modelo Random Forest con un número de estimadores, para es ejemplo utilizamos 5\n",
    "rf = RandomForestClassifier(n_estimators=5, random_state=0)"
   ]
  },
  {
   "cell_type": "code",
   "execution_count": 5,
   "id": "0f18cc87-037d-43d4-9c0a-cd0267c47367",
   "metadata": {},
   "outputs": [
    {
     "data": {
      "text/plain": [
       "RandomForestClassifier(n_estimators=5, random_state=0)"
      ]
     },
     "execution_count": 5,
     "metadata": {},
     "output_type": "execute_result"
    }
   ],
   "source": [
    "# Entrena el modelo usando los datos de entrenamiento\n",
    "rf.fit(X_train, y_train)"
   ]
  },
  {
   "cell_type": "code",
   "execution_count": 6,
   "id": "d7da2b44-c0a2-4166-a0be-cf2714964547",
   "metadata": {},
   "outputs": [],
   "source": [
    "# Realiza predicciones en el conjunto de prueba\n",
    "y_pred = rf.predict(X_test)"
   ]
  },
  {
   "cell_type": "code",
   "execution_count": 7,
   "id": "aac29073-9e91-4104-b7d4-a24a261056f3",
   "metadata": {},
   "outputs": [
    {
     "name": "stdout",
     "output_type": "stream",
     "text": [
      "Matrix de Confusión:\n",
      " [[13  0  0]\n",
      " [ 0 15  1]\n",
      " [ 0  0  9]]\n",
      "\n",
      "Report de Clasificación:\n",
      "               precision    recall  f1-score   support\n",
      "\n",
      "           0       1.00      1.00      1.00        13\n",
      "           1       1.00      0.94      0.97        16\n",
      "           2       0.90      1.00      0.95         9\n",
      "\n",
      "    accuracy                           0.97        38\n",
      "   macro avg       0.97      0.98      0.97        38\n",
      "weighted avg       0.98      0.97      0.97        38\n",
      "\n"
     ]
    }
   ],
   "source": [
    "# Evaluación del modelo\n",
    "print(\"Matrix de Confusión:\\n\", confusion_matrix(y_test, y_pred))\n",
    "print(\"\\nReport de Clasificación:\\n\", classification_report(y_test, y_pred))"
   ]
  },
  {
   "cell_type": "code",
   "execution_count": 8,
   "id": "7aaebb28-2e91-4d49-9c46-3ebbed602f32",
   "metadata": {},
   "outputs": [
    {
     "data": {
      "text/html": [
       "<div>\n",
       "<style scoped>\n",
       "    .dataframe tbody tr th:only-of-type {\n",
       "        vertical-align: middle;\n",
       "    }\n",
       "\n",
       "    .dataframe tbody tr th {\n",
       "        vertical-align: top;\n",
       "    }\n",
       "\n",
       "    .dataframe thead th {\n",
       "        text-align: right;\n",
       "    }\n",
       "</style>\n",
       "<table border=\"1\" class=\"dataframe\">\n",
       "  <thead>\n",
       "    <tr style=\"text-align: right;\">\n",
       "      <th></th>\n",
       "      <th>setosa</th>\n",
       "      <th>versicolor</th>\n",
       "      <th>virginica</th>\n",
       "    </tr>\n",
       "  </thead>\n",
       "  <tbody>\n",
       "    <tr>\n",
       "      <th>setosa</th>\n",
       "      <td>13</td>\n",
       "      <td>0</td>\n",
       "      <td>0</td>\n",
       "    </tr>\n",
       "    <tr>\n",
       "      <th>versicolor</th>\n",
       "      <td>0</td>\n",
       "      <td>15</td>\n",
       "      <td>1</td>\n",
       "    </tr>\n",
       "    <tr>\n",
       "      <th>virginica</th>\n",
       "      <td>0</td>\n",
       "      <td>0</td>\n",
       "      <td>9</td>\n",
       "    </tr>\n",
       "  </tbody>\n",
       "</table>\n",
       "</div>"
      ],
      "text/plain": [
       "            setosa  versicolor  virginica\n",
       "setosa          13           0          0\n",
       "versicolor       0          15          1\n",
       "virginica        0           0          9"
      ]
     },
     "execution_count": 8,
     "metadata": {},
     "output_type": "execute_result"
    }
   ],
   "source": [
    "# Crea matriz de confusión, visualmente más clara\n",
    "conf_matrix = confusion_matrix(y_test, y_pred)\n",
    "conf_matrix_df = pd.DataFrame(conf_matrix, index=iris.target_names, columns=iris.target_names)\n",
    "conf_matrix_df"
   ]
  },
  {
   "cell_type": "markdown",
   "id": "4a396734-5a99-4040-88ad-d445d71e902f",
   "metadata": {},
   "source": [
    "## Buscar el número óptimo de estimadores"
   ]
  },
  {
   "cell_type": "code",
   "execution_count": 9,
   "id": "92cd3db2-cc62-4785-81ba-b2338cbb80d9",
   "metadata": {},
   "outputs": [],
   "source": [
    "# Probar diferentes valores de 'n_estimators' para RandomForest y registrar la exactitud\n",
    "precisions = []\n",
    "estimator_range = range(1, 101, 20)\n",
    "for n_estimators in estimator_range:\n",
    "    rf = RandomForestClassifier(n_estimators=n_estimators, random_state=42)\n",
    "    rf.fit(X_train, y_train)\n",
    "    y_pred = rf.predict(X_test)\n",
    "    precisions.append(accuracy_score(y_test, y_pred))"
   ]
  },
  {
   "cell_type": "code",
   "execution_count": 10,
   "id": "0eae7cf5-83bf-4fe7-8309-f6a678299be0",
   "metadata": {},
   "outputs": [
    {
     "data": {
      "image/png": "[encoded data removed]",
      "text/plain": [
       "<Figure size 1200x600 with 1 Axes>"
      ]
     },
     "metadata": {},
     "output_type": "display_data"
    }
   ],
   "source": [
    "# Graficar la exactitud en función del número de estimadores\n",
    "plt.figure(figsize=(12, 6))\n",
    "plt.plot(estimator_range, precisions, marker='o')\n",
    "plt.title('Exactitud en función del número de estimadores para RandomForest')\n",
    "plt.xlabel('Número de Estimadores')\n",
    "plt.ylabel('Exactitud')\n",
    "plt.xticks(estimator_range)\n",
    "plt.grid(True)\n",
    "plt.show()"
   ]
  },
  {
   "cell_type": "code",
   "execution_count": null,
   "id": "fdda5f5c-8a97-4eae-908d-dfff393b50b5",
   "metadata": {},
   "outputs": [],
   "source": []
  }
 ],
 "metadata": {
  "kernelspec": {
   "display_name": "Python 3 (ipykernel)",
   "language": "python",
   "name": "python3"
  },
  "language_info": {
   "codemirror_mode": {
    "name": "ipython",
    "version": 3
   },
   "file_extension": ".py",
   "mimetype": "text/x-python",
   "name": "python",
   "nbconvert_exporter": "python",
   "pygments_lexer": "ipython3",
   "version": "3.7.13"
  }
 },
 "nbformat": 4,
 "nbformat_minor": 5
}
